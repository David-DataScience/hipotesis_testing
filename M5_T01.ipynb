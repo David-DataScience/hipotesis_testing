{
 "cells": [
  {
   "cell_type": "markdown",
   "metadata": {},
   "source": [
    "## - Exercici 1:\n",
    "\n",
    "Descarrega el dataset adjunt de dades oficials de la UEFA i selecciona un atribut del conjunt de dades. Calcula el p-valor i digues si rebutja la hipòtesi nul·la agafant un alfa de 5%. "
   ]
  },
  {
   "cell_type": "code",
   "execution_count": null,
   "metadata": {},
   "outputs": [],
   "source": [
    "# Hipótesi nula que les dades procedeixen d'una distribució normal\n",
    "# Hipótess alternativa les dades NO procedeixen d'una distribució normal"
   ]
  },
  {
   "cell_type": "code",
   "execution_count": 32,
   "metadata": {},
   "outputs": [],
   "source": [
    "import matplotlib.pyplot as plt\n",
    "import seaborn as sns\n",
    "import pandas as pd\n",
    "import numpy as np\n",
    "import scipy\n",
    "import scipy.stats as stats\n",
    "from scipy.stats import kendalltau\n",
    "from scipy.stats import spearmanr"
   ]
  },
  {
   "cell_type": "code",
   "execution_count": 3,
   "metadata": {
    "scrolled": true
   },
   "outputs": [],
   "source": [
    "df = pd.read_csv('Lligues europees UEFA.csv', sep = ';', encoding='latin_1')"
   ]
  },
  {
   "cell_type": "code",
   "execution_count": 4,
   "metadata": {},
   "outputs": [
    {
     "data": {
      "text/html": [
       "<div>\n",
       "<style scoped>\n",
       "    .dataframe tbody tr th:only-of-type {\n",
       "        vertical-align: middle;\n",
       "    }\n",
       "\n",
       "    .dataframe tbody tr th {\n",
       "        vertical-align: top;\n",
       "    }\n",
       "\n",
       "    .dataframe thead th {\n",
       "        text-align: right;\n",
       "    }\n",
       "</style>\n",
       "<table border=\"1\" class=\"dataframe\">\n",
       "  <thead>\n",
       "    <tr style=\"text-align: right;\">\n",
       "      <th></th>\n",
       "      <th>Rk</th>\n",
       "      <th>Squad</th>\n",
       "      <th>Country</th>\n",
       "      <th>LgRk</th>\n",
       "      <th>MP</th>\n",
       "      <th>W</th>\n",
       "      <th>D</th>\n",
       "      <th>L</th>\n",
       "      <th>GF</th>\n",
       "      <th>GA</th>\n",
       "      <th>...</th>\n",
       "      <th>Pts</th>\n",
       "      <th>Pts/G</th>\n",
       "      <th>xG</th>\n",
       "      <th>xGA</th>\n",
       "      <th>xGD</th>\n",
       "      <th>xGD/90</th>\n",
       "      <th>Last 5</th>\n",
       "      <th>Attendance</th>\n",
       "      <th>Top Team Scorer</th>\n",
       "      <th>Goalkeeper</th>\n",
       "    </tr>\n",
       "  </thead>\n",
       "  <tbody>\n",
       "    <tr>\n",
       "      <th>0</th>\n",
       "      <td>1</td>\n",
       "      <td>Manchester City</td>\n",
       "      <td>ENG</td>\n",
       "      <td>1</td>\n",
       "      <td>37</td>\n",
       "      <td>28</td>\n",
       "      <td>6</td>\n",
       "      <td>3</td>\n",
       "      <td>96</td>\n",
       "      <td>24</td>\n",
       "      <td>...</td>\n",
       "      <td>90</td>\n",
       "      <td>2.43</td>\n",
       "      <td>86.1</td>\n",
       "      <td>26.8</td>\n",
       "      <td>59.3</td>\n",
       "      <td>1.60</td>\n",
       "      <td>W W W W D</td>\n",
       "      <td>52739</td>\n",
       "      <td>Kevin De Bruyne - 15</td>\n",
       "      <td>Ederson</td>\n",
       "    </tr>\n",
       "    <tr>\n",
       "      <th>1</th>\n",
       "      <td>2</td>\n",
       "      <td>Liverpool</td>\n",
       "      <td>ENG</td>\n",
       "      <td>2</td>\n",
       "      <td>36</td>\n",
       "      <td>26</td>\n",
       "      <td>8</td>\n",
       "      <td>2</td>\n",
       "      <td>89</td>\n",
       "      <td>24</td>\n",
       "      <td>...</td>\n",
       "      <td>86</td>\n",
       "      <td>2.39</td>\n",
       "      <td>84.6</td>\n",
       "      <td>33.1</td>\n",
       "      <td>51.4</td>\n",
       "      <td>1.43</td>\n",
       "      <td>W W W D W</td>\n",
       "      <td>53367</td>\n",
       "      <td>Mohamed Salah - 22</td>\n",
       "      <td>Alisson</td>\n",
       "    </tr>\n",
       "    <tr>\n",
       "      <th>2</th>\n",
       "      <td>3</td>\n",
       "      <td>Real Madrid</td>\n",
       "      <td>ESP</td>\n",
       "      <td>1</td>\n",
       "      <td>37</td>\n",
       "      <td>26</td>\n",
       "      <td>7</td>\n",
       "      <td>4</td>\n",
       "      <td>80</td>\n",
       "      <td>31</td>\n",
       "      <td>...</td>\n",
       "      <td>85</td>\n",
       "      <td>2.30</td>\n",
       "      <td>73.0</td>\n",
       "      <td>45.8</td>\n",
       "      <td>27.2</td>\n",
       "      <td>0.73</td>\n",
       "      <td>W W L W D</td>\n",
       "      <td>40624</td>\n",
       "      <td>Karim Benzema - 27</td>\n",
       "      <td>Thibaut Courtois</td>\n",
       "    </tr>\n",
       "    <tr>\n",
       "      <th>3</th>\n",
       "      <td>4</td>\n",
       "      <td>Bayern Munich</td>\n",
       "      <td>GER</td>\n",
       "      <td>1</td>\n",
       "      <td>34</td>\n",
       "      <td>24</td>\n",
       "      <td>5</td>\n",
       "      <td>5</td>\n",
       "      <td>97</td>\n",
       "      <td>37</td>\n",
       "      <td>...</td>\n",
       "      <td>77</td>\n",
       "      <td>2.26</td>\n",
       "      <td>88.1</td>\n",
       "      <td>37.1</td>\n",
       "      <td>51.0</td>\n",
       "      <td>1.50</td>\n",
       "      <td>W W L D D</td>\n",
       "      <td>33176</td>\n",
       "      <td>Robert Lewandowski - 35</td>\n",
       "      <td>Manuel Neuer</td>\n",
       "    </tr>\n",
       "    <tr>\n",
       "      <th>4</th>\n",
       "      <td>5</td>\n",
       "      <td>Paris S-G</td>\n",
       "      <td>FRA</td>\n",
       "      <td>1</td>\n",
       "      <td>37</td>\n",
       "      <td>25</td>\n",
       "      <td>8</td>\n",
       "      <td>4</td>\n",
       "      <td>85</td>\n",
       "      <td>36</td>\n",
       "      <td>...</td>\n",
       "      <td>83</td>\n",
       "      <td>2.24</td>\n",
       "      <td>71.6</td>\n",
       "      <td>38.1</td>\n",
       "      <td>33.4</td>\n",
       "      <td>0.90</td>\n",
       "      <td>W D D D W</td>\n",
       "      <td>41188</td>\n",
       "      <td>Kylian Mbappé - 25</td>\n",
       "      <td>Keylor Navas</td>\n",
       "    </tr>\n",
       "    <tr>\n",
       "      <th>...</th>\n",
       "      <td>...</td>\n",
       "      <td>...</td>\n",
       "      <td>...</td>\n",
       "      <td>...</td>\n",
       "      <td>...</td>\n",
       "      <td>...</td>\n",
       "      <td>...</td>\n",
       "      <td>...</td>\n",
       "      <td>...</td>\n",
       "      <td>...</td>\n",
       "      <td>...</td>\n",
       "      <td>...</td>\n",
       "      <td>...</td>\n",
       "      <td>...</td>\n",
       "      <td>...</td>\n",
       "      <td>...</td>\n",
       "      <td>...</td>\n",
       "      <td>...</td>\n",
       "      <td>...</td>\n",
       "      <td>...</td>\n",
       "      <td>...</td>\n",
       "    </tr>\n",
       "    <tr>\n",
       "      <th>93</th>\n",
       "      <td>94</td>\n",
       "      <td>Bordeaux</td>\n",
       "      <td>FRA</td>\n",
       "      <td>20</td>\n",
       "      <td>37</td>\n",
       "      <td>5</td>\n",
       "      <td>13</td>\n",
       "      <td>19</td>\n",
       "      <td>48</td>\n",
       "      <td>89</td>\n",
       "      <td>...</td>\n",
       "      <td>28</td>\n",
       "      <td>0.76</td>\n",
       "      <td>41.3</td>\n",
       "      <td>68.5</td>\n",
       "      <td>-27.2</td>\n",
       "      <td>-0.73</td>\n",
       "      <td>D L L L D</td>\n",
       "      <td>22083</td>\n",
       "      <td>Hwang Ui-jo - 11</td>\n",
       "      <td>Benoît Costil</td>\n",
       "    </tr>\n",
       "    <tr>\n",
       "      <th>94</th>\n",
       "      <td>95</td>\n",
       "      <td>Venezia</td>\n",
       "      <td>ITA</td>\n",
       "      <td>20</td>\n",
       "      <td>37</td>\n",
       "      <td>6</td>\n",
       "      <td>8</td>\n",
       "      <td>23</td>\n",
       "      <td>34</td>\n",
       "      <td>69</td>\n",
       "      <td>...</td>\n",
       "      <td>26</td>\n",
       "      <td>0.70</td>\n",
       "      <td>35.4</td>\n",
       "      <td>70.5</td>\n",
       "      <td>-35.1</td>\n",
       "      <td>-0.95</td>\n",
       "      <td>L L L W D</td>\n",
       "      <td>6705</td>\n",
       "      <td>Thomas Henry - 9</td>\n",
       "      <td>Sergio Romero</td>\n",
       "    </tr>\n",
       "    <tr>\n",
       "      <th>95</th>\n",
       "      <td>96</td>\n",
       "      <td>Watford</td>\n",
       "      <td>ENG</td>\n",
       "      <td>19</td>\n",
       "      <td>37</td>\n",
       "      <td>6</td>\n",
       "      <td>5</td>\n",
       "      <td>26</td>\n",
       "      <td>33</td>\n",
       "      <td>75</td>\n",
       "      <td>...</td>\n",
       "      <td>23</td>\n",
       "      <td>0.62</td>\n",
       "      <td>37.8</td>\n",
       "      <td>64.1</td>\n",
       "      <td>-26.3</td>\n",
       "      <td>-0.71</td>\n",
       "      <td>L L L D L</td>\n",
       "      <td>20614</td>\n",
       "      <td>Emmanuel Dennis - 10</td>\n",
       "      <td>Ben Foster</td>\n",
       "    </tr>\n",
       "    <tr>\n",
       "      <th>96</th>\n",
       "      <td>97</td>\n",
       "      <td>Norwich City</td>\n",
       "      <td>ENG</td>\n",
       "      <td>20</td>\n",
       "      <td>37</td>\n",
       "      <td>5</td>\n",
       "      <td>7</td>\n",
       "      <td>25</td>\n",
       "      <td>23</td>\n",
       "      <td>79</td>\n",
       "      <td>...</td>\n",
       "      <td>22</td>\n",
       "      <td>0.59</td>\n",
       "      <td>33.0</td>\n",
       "      <td>73.3</td>\n",
       "      <td>-40.4</td>\n",
       "      <td>-1.09</td>\n",
       "      <td>L L L L D</td>\n",
       "      <td>26826</td>\n",
       "      <td>Teemu Pukki - 11</td>\n",
       "      <td>Tim Krul</td>\n",
       "    </tr>\n",
       "    <tr>\n",
       "      <th>97</th>\n",
       "      <td>98</td>\n",
       "      <td>Greuther Fürth</td>\n",
       "      <td>GER</td>\n",
       "      <td>18</td>\n",
       "      <td>34</td>\n",
       "      <td>3</td>\n",
       "      <td>9</td>\n",
       "      <td>22</td>\n",
       "      <td>28</td>\n",
       "      <td>82</td>\n",
       "      <td>...</td>\n",
       "      <td>18</td>\n",
       "      <td>0.53</td>\n",
       "      <td>30.7</td>\n",
       "      <td>60.3</td>\n",
       "      <td>-29.6</td>\n",
       "      <td>-0.87</td>\n",
       "      <td>D L D L L</td>\n",
       "      <td>7672</td>\n",
       "      <td>Branimir Hrgota - 9</td>\n",
       "      <td>Sascha Burchert</td>\n",
       "    </tr>\n",
       "  </tbody>\n",
       "</table>\n",
       "<p>98 rows × 21 columns</p>\n",
       "</div>"
      ],
      "text/plain": [
       "    Rk            Squad Country  LgRk  MP   W   D   L  GF  GA  ...  Pts  \\\n",
       "0    1  Manchester City     ENG     1  37  28   6   3  96  24  ...   90   \n",
       "1    2        Liverpool     ENG     2  36  26   8   2  89  24  ...   86   \n",
       "2    3      Real Madrid     ESP     1  37  26   7   4  80  31  ...   85   \n",
       "3    4    Bayern Munich     GER     1  34  24   5   5  97  37  ...   77   \n",
       "4    5        Paris S-G     FRA     1  37  25   8   4  85  36  ...   83   \n",
       "..  ..              ...     ...   ...  ..  ..  ..  ..  ..  ..  ...  ...   \n",
       "93  94         Bordeaux     FRA    20  37   5  13  19  48  89  ...   28   \n",
       "94  95          Venezia     ITA    20  37   6   8  23  34  69  ...   26   \n",
       "95  96          Watford     ENG    19  37   6   5  26  33  75  ...   23   \n",
       "96  97     Norwich City     ENG    20  37   5   7  25  23  79  ...   22   \n",
       "97  98   Greuther Fürth     GER    18  34   3   9  22  28  82  ...   18   \n",
       "\n",
       "    Pts/G    xG   xGA   xGD  xGD/90     Last 5 Attendance  \\\n",
       "0    2.43  86.1  26.8  59.3    1.60  W W W W D      52739   \n",
       "1    2.39  84.6  33.1  51.4    1.43  W W W D W      53367   \n",
       "2    2.30  73.0  45.8  27.2    0.73  W W L W D      40624   \n",
       "3    2.26  88.1  37.1  51.0    1.50  W W L D D      33176   \n",
       "4    2.24  71.6  38.1  33.4    0.90  W D D D W      41188   \n",
       "..    ...   ...   ...   ...     ...        ...        ...   \n",
       "93   0.76  41.3  68.5 -27.2   -0.73  D L L L D      22083   \n",
       "94   0.70  35.4  70.5 -35.1   -0.95  L L L W D       6705   \n",
       "95   0.62  37.8  64.1 -26.3   -0.71  L L L D L      20614   \n",
       "96   0.59  33.0  73.3 -40.4   -1.09  L L L L D      26826   \n",
       "97   0.53  30.7  60.3 -29.6   -0.87  D L D L L       7672   \n",
       "\n",
       "            Top Team Scorer        Goalkeeper  \n",
       "0      Kevin De Bruyne - 15           Ederson  \n",
       "1        Mohamed Salah - 22           Alisson  \n",
       "2        Karim Benzema - 27  Thibaut Courtois  \n",
       "3   Robert Lewandowski - 35      Manuel Neuer  \n",
       "4        Kylian Mbappé - 25      Keylor Navas  \n",
       "..                      ...               ...  \n",
       "93         Hwang Ui-jo - 11     Benoît Costil  \n",
       "94         Thomas Henry - 9     Sergio Romero  \n",
       "95     Emmanuel Dennis - 10        Ben Foster  \n",
       "96         Teemu Pukki - 11          Tim Krul  \n",
       "97      Branimir Hrgota - 9   Sascha Burchert  \n",
       "\n",
       "[98 rows x 21 columns]"
      ]
     },
     "execution_count": 4,
     "metadata": {},
     "output_type": "execute_result"
    }
   ],
   "source": [
    "df.sort_values(by=['Rk'])"
   ]
  },
  {
   "cell_type": "code",
   "execution_count": 65,
   "metadata": {},
   "outputs": [
    {
     "data": {
      "text/plain": [
       "count    98.000000\n",
       "mean     49.734694\n",
       "std      16.166371\n",
       "min      18.000000\n",
       "25%      37.000000\n",
       "50%      46.000000\n",
       "75%      61.750000\n",
       "max      90.000000\n",
       "Name: Pts, dtype: float64"
      ]
     },
     "execution_count": 65,
     "metadata": {},
     "output_type": "execute_result"
    }
   ],
   "source": [
    "#escollim l'atribut punts del dataframe i visualitzem les dades estadístiques del mateix\n",
    "df['Pts'].describe()"
   ]
  },
  {
   "cell_type": "code",
   "execution_count": 46,
   "metadata": {},
   "outputs": [
    {
     "data": {
      "image/png": "[encoded data removed]",
      "text/plain": [
       "<Figure size 432x288 with 1 Axes>"
      ]
     },
     "metadata": {
      "needs_background": "light"
     },
     "output_type": "display_data"
    }
   ],
   "source": [
    "plt.hist(df['Pts'])\n",
    "plt.show()"
   ]
  },
  {
   "cell_type": "code",
   "execution_count": 47,
   "metadata": {},
   "outputs": [],
   "source": [
    "df['zscore'] = stats.zscore(df['Pts'])"
   ]
  },
  {
   "cell_type": "code",
   "execution_count": 50,
   "metadata": {},
   "outputs": [
    {
     "name": "stdout",
     "output_type": "stream",
     "text": [
      "[0.00614878 0.01207328 0.01416758 0.04501724 0.01930756 0.01930756\n",
      " 0.02595284 0.05123019 0.1154941  0.0740162  0.10383613 0.1154941\n",
      " 0.18755479 0.12805314 0.12805314 0.12805314 0.12805314 0.15593819\n",
      " 0.14153071 0.17128034 0.18755479 0.22285298 0.30366305 0.20475161\n",
      " 0.20475161 0.32573565 0.22285298 0.24183299 0.28228432 0.26165753\n",
      " 0.37169421 0.28228432 0.30366305 0.30366305 0.44399619 0.34843675\n",
      " 0.34843675 0.37169421 0.39542974 0.39542974 0.44399619 0.46864748\n",
      " 0.4934196  0.4081898  0.4934196  0.4081898  0.45705563 0.38423423\n",
      " 0.45705563 0.45705563 0.43249361 0.38423423 0.4081898  0.4081898\n",
      " 0.31529262 0.4081898  0.31529262 0.31529262 0.360713   0.38423423\n",
      " 0.360713   0.3377073  0.3377073  0.3377073  0.31529262 0.23281656\n",
      " 0.29353801 0.27250547 0.25224946 0.25224946 0.23281656 0.23281656\n",
      " 0.21424523 0.21424523 0.19656572 0.19656572 0.14905923 0.19656572\n",
      " 0.19656572 0.19656572 0.14905923 0.17980012 0.17980012 0.16396251\n",
      " 0.14905923 0.13508925 0.12204463 0.12204463 0.12204463 0.12204463\n",
      " 0.08829152 0.09866844 0.08829152 0.08829152 0.07001214 0.04823383\n",
      " 0.04231784 0.02424213]\n"
     ]
    }
   ],
   "source": [
    "p_valor = scipy.stats.norm.sf (abs (df['zscore']))\n",
    "print(p_valor)"
   ]
  },
  {
   "cell_type": "code",
   "execution_count": 51,
   "metadata": {
    "scrolled": true
   },
   "outputs": [
    {
     "data": {
      "image/png": "[encoded data removed]",
      "text/plain": [
       "<Figure size 432x288 with 1 Axes>"
      ]
     },
     "metadata": {
      "needs_background": "light"
     },
     "output_type": "display_data"
    }
   ],
   "source": [
    "plt.hist(p_valor)\n",
    "plt.show()"
   ]
  },
  {
   "cell_type": "code",
   "execution_count": 64,
   "metadata": {},
   "outputs": [
    {
     "data": {
      "text/plain": [
       "0.23477968780949157"
      ]
     },
     "execution_count": 64,
     "metadata": {},
     "output_type": "execute_result"
    }
   ],
   "source": [
    "p_valor.mean()"
   ]
  },
  {
   "cell_type": "code",
   "execution_count": null,
   "metadata": {},
   "outputs": [],
   "source": [
    "# el valor P mitja es de 0.23 i com que el l'alfa per rebutjar l'hipotesi nula es de 0.05, i el valor p està per sobre, acceptem l'hipotesi nula."
   ]
  },
  {
   "cell_type": "markdown",
   "metadata": {},
   "source": [
    "## - Exercici 2:\n",
    "\n",
    "Amb el mateix dataset selecciona dos altres atributs del conjunt de dades. Calcula els p-valors i digues si rebutgen la hipòtesi nul·la agafant un alfa de 5%."
   ]
  },
  {
   "cell_type": "code",
   "execution_count": null,
   "metadata": {},
   "outputs": [],
   "source": [
    "# Hipótesi nula que hi ha una correlació entre les dues variables\n",
    "# Hipótess alternativa les dades NO hi ha cap correlació entre les dues variables"
   ]
  },
  {
   "cell_type": "code",
   "execution_count": 17,
   "metadata": {},
   "outputs": [],
   "source": [
    "corr, p_value = scipy.stats.pearsonr(df['Rk'], df['Pts'])"
   ]
  },
  {
   "cell_type": "code",
   "execution_count": 18,
   "metadata": {},
   "outputs": [
    {
     "name": "stdout",
     "output_type": "stream",
     "text": [
      "The pearson correlation coefficient is: -0.9758089169132396\n",
      "The p-value is: 3.398589707355742e-65\n"
     ]
    }
   ],
   "source": [
    "print(\"The pearson correlation coefficient is:\", corr)\n",
    "print(\"The p-value is:\", p_value)"
   ]
  },
  {
   "cell_type": "code",
   "execution_count": 50,
   "metadata": {},
   "outputs": [
    {
     "data": {
      "image/png": "[encoded data removed]",
      "text/plain": [
       "<Figure size 432x288 with 1 Axes>"
      ]
     },
     "metadata": {
      "needs_background": "light"
     },
     "output_type": "display_data"
    }
   ],
   "source": [
    "plt.scatter(df['Rk'],df['Pts'])\n",
    "plt.show()"
   ]
  },
  {
   "cell_type": "code",
   "execution_count": null,
   "metadata": {},
   "outputs": [],
   "source": [
    "# Donat que el valor p (3.398589707355742) es major que 0.05, la hipótesis nula es verdadera."
   ]
  },
  {
   "cell_type": "markdown",
   "metadata": {},
   "source": [
    "## - Exercici 3:\n",
    "\n",
    "Continua amb el conjunt de dades adjunt i selecciona tres atributs del conjunt de dades. Calcula el p-valor i digues si rebutja la hipòtesi nul·la agafant un alfa de 5%."
   ]
  },
  {
   "cell_type": "code",
   "execution_count": 19,
   "metadata": {},
   "outputs": [
    {
     "data": {
      "text/html": [
       "<div>\n",
       "<style scoped>\n",
       "    .dataframe tbody tr th:only-of-type {\n",
       "        vertical-align: middle;\n",
       "    }\n",
       "\n",
       "    .dataframe tbody tr th {\n",
       "        vertical-align: top;\n",
       "    }\n",
       "\n",
       "    .dataframe thead th {\n",
       "        text-align: right;\n",
       "    }\n",
       "</style>\n",
       "<table border=\"1\" class=\"dataframe\">\n",
       "  <thead>\n",
       "    <tr style=\"text-align: right;\">\n",
       "      <th></th>\n",
       "      <th>Rk</th>\n",
       "      <th>LgRk</th>\n",
       "      <th>MP</th>\n",
       "      <th>W</th>\n",
       "      <th>D</th>\n",
       "      <th>L</th>\n",
       "      <th>GF</th>\n",
       "      <th>GA</th>\n",
       "      <th>GD</th>\n",
       "      <th>Pts</th>\n",
       "      <th>Pts/G</th>\n",
       "      <th>xG</th>\n",
       "      <th>xGA</th>\n",
       "      <th>xGD</th>\n",
       "      <th>xGD/90</th>\n",
       "      <th>Attendance</th>\n",
       "    </tr>\n",
       "  </thead>\n",
       "  <tbody>\n",
       "    <tr>\n",
       "      <th>Rk</th>\n",
       "      <td>1.000000</td>\n",
       "      <td>0.988130</td>\n",
       "      <td>0.048452</td>\n",
       "      <td>-0.966555</td>\n",
       "      <td>0.301579</td>\n",
       "      <td>0.924273</td>\n",
       "      <td>-0.855210</td>\n",
       "      <td>0.837186</td>\n",
       "      <td>-0.950350</td>\n",
       "      <td>-0.975809</td>\n",
       "      <td>-0.982258</td>\n",
       "      <td>-0.817633</td>\n",
       "      <td>0.789226</td>\n",
       "      <td>-0.896688</td>\n",
       "      <td>-0.895620</td>\n",
       "      <td>-0.542683</td>\n",
       "    </tr>\n",
       "    <tr>\n",
       "      <th>LgRk</th>\n",
       "      <td>0.988130</td>\n",
       "      <td>1.000000</td>\n",
       "      <td>0.077611</td>\n",
       "      <td>-0.952942</td>\n",
       "      <td>0.310066</td>\n",
       "      <td>0.910752</td>\n",
       "      <td>-0.843291</td>\n",
       "      <td>0.826181</td>\n",
       "      <td>-0.937446</td>\n",
       "      <td>-0.959944</td>\n",
       "      <td>-0.968642</td>\n",
       "      <td>-0.795941</td>\n",
       "      <td>0.779205</td>\n",
       "      <td>-0.878232</td>\n",
       "      <td>-0.876824</td>\n",
       "      <td>-0.532435</td>\n",
       "    </tr>\n",
       "    <tr>\n",
       "      <th>MP</th>\n",
       "      <td>0.048452</td>\n",
       "      <td>0.077611</td>\n",
       "      <td>1.000000</td>\n",
       "      <td>0.016391</td>\n",
       "      <td>0.251907</td>\n",
       "      <td>0.063785</td>\n",
       "      <td>-0.083514</td>\n",
       "      <td>-0.049424</td>\n",
       "      <td>-0.025317</td>\n",
       "      <td>0.061955</td>\n",
       "      <td>-0.036399</td>\n",
       "      <td>-0.065936</td>\n",
       "      <td>-0.039456</td>\n",
       "      <td>-0.021589</td>\n",
       "      <td>-0.022025</td>\n",
       "      <td>0.032255</td>\n",
       "    </tr>\n",
       "    <tr>\n",
       "      <th>W</th>\n",
       "      <td>-0.966555</td>\n",
       "      <td>-0.952942</td>\n",
       "      <td>0.016391</td>\n",
       "      <td>1.000000</td>\n",
       "      <td>-0.438612</td>\n",
       "      <td>-0.869553</td>\n",
       "      <td>0.880804</td>\n",
       "      <td>-0.795596</td>\n",
       "      <td>0.944505</td>\n",
       "      <td>0.986890</td>\n",
       "      <td>0.986395</td>\n",
       "      <td>0.851354</td>\n",
       "      <td>-0.753535</td>\n",
       "      <td>0.900125</td>\n",
       "      <td>0.898715</td>\n",
       "      <td>0.583984</td>\n",
       "    </tr>\n",
       "    <tr>\n",
       "      <th>D</th>\n",
       "      <td>0.301579</td>\n",
       "      <td>0.310066</td>\n",
       "      <td>0.251907</td>\n",
       "      <td>-0.438612</td>\n",
       "      <td>1.000000</td>\n",
       "      <td>-0.017991</td>\n",
       "      <td>-0.364518</td>\n",
       "      <td>0.070288</td>\n",
       "      <td>-0.257648</td>\n",
       "      <td>-0.288033</td>\n",
       "      <td>-0.315227</td>\n",
       "      <td>-0.325834</td>\n",
       "      <td>0.072106</td>\n",
       "      <td>-0.238222</td>\n",
       "      <td>-0.241650</td>\n",
       "      <td>-0.243187</td>\n",
       "    </tr>\n",
       "    <tr>\n",
       "      <th>L</th>\n",
       "      <td>0.924273</td>\n",
       "      <td>0.910752</td>\n",
       "      <td>0.063785</td>\n",
       "      <td>-0.869553</td>\n",
       "      <td>-0.017991</td>\n",
       "      <td>1.000000</td>\n",
       "      <td>-0.800298</td>\n",
       "      <td>0.841547</td>\n",
       "      <td>-0.919229</td>\n",
       "      <td>-0.929928</td>\n",
       "      <td>-0.936085</td>\n",
       "      <td>-0.785229</td>\n",
       "      <td>0.795575</td>\n",
       "      <td>-0.879614</td>\n",
       "      <td>-0.876187</td>\n",
       "      <td>-0.510045</td>\n",
       "    </tr>\n",
       "    <tr>\n",
       "      <th>GF</th>\n",
       "      <td>-0.855210</td>\n",
       "      <td>-0.843291</td>\n",
       "      <td>-0.083514</td>\n",
       "      <td>0.880804</td>\n",
       "      <td>-0.364518</td>\n",
       "      <td>-0.800298</td>\n",
       "      <td>1.000000</td>\n",
       "      <td>-0.585596</td>\n",
       "      <td>0.908890</td>\n",
       "      <td>0.873521</td>\n",
       "      <td>0.886530</td>\n",
       "      <td>0.919444</td>\n",
       "      <td>-0.600808</td>\n",
       "      <td>0.867793</td>\n",
       "      <td>0.871334</td>\n",
       "      <td>0.483135</td>\n",
       "    </tr>\n",
       "    <tr>\n",
       "      <th>GA</th>\n",
       "      <td>0.837186</td>\n",
       "      <td>0.826181</td>\n",
       "      <td>-0.049424</td>\n",
       "      <td>-0.795596</td>\n",
       "      <td>0.070288</td>\n",
       "      <td>0.841547</td>\n",
       "      <td>-0.585596</td>\n",
       "      <td>1.000000</td>\n",
       "      <td>-0.870293</td>\n",
       "      <td>-0.835098</td>\n",
       "      <td>-0.828477</td>\n",
       "      <td>-0.592486</td>\n",
       "      <td>0.861637</td>\n",
       "      <td>-0.791906</td>\n",
       "      <td>-0.787094</td>\n",
       "      <td>-0.376617</td>\n",
       "    </tr>\n",
       "    <tr>\n",
       "      <th>GD</th>\n",
       "      <td>-0.950350</td>\n",
       "      <td>-0.937446</td>\n",
       "      <td>-0.025317</td>\n",
       "      <td>0.944505</td>\n",
       "      <td>-0.257648</td>\n",
       "      <td>-0.919229</td>\n",
       "      <td>0.908890</td>\n",
       "      <td>-0.870293</td>\n",
       "      <td>1.000000</td>\n",
       "      <td>0.960402</td>\n",
       "      <td>0.964901</td>\n",
       "      <td>0.863488</td>\n",
       "      <td>-0.808352</td>\n",
       "      <td>0.934701</td>\n",
       "      <td>0.934376</td>\n",
       "      <td>0.487320</td>\n",
       "    </tr>\n",
       "    <tr>\n",
       "      <th>Pts</th>\n",
       "      <td>-0.975809</td>\n",
       "      <td>-0.959944</td>\n",
       "      <td>0.061955</td>\n",
       "      <td>0.986890</td>\n",
       "      <td>-0.288033</td>\n",
       "      <td>-0.929928</td>\n",
       "      <td>0.873521</td>\n",
       "      <td>-0.835098</td>\n",
       "      <td>0.960402</td>\n",
       "      <td>1.000000</td>\n",
       "      <td>0.994677</td>\n",
       "      <td>0.848167</td>\n",
       "      <td>-0.790710</td>\n",
       "      <td>0.916410</td>\n",
       "      <td>0.914305</td>\n",
       "      <td>0.579261</td>\n",
       "    </tr>\n",
       "    <tr>\n",
       "      <th>Pts/G</th>\n",
       "      <td>-0.982258</td>\n",
       "      <td>-0.968642</td>\n",
       "      <td>-0.036399</td>\n",
       "      <td>0.986395</td>\n",
       "      <td>-0.315227</td>\n",
       "      <td>-0.936085</td>\n",
       "      <td>0.886530</td>\n",
       "      <td>-0.828477</td>\n",
       "      <td>0.964901</td>\n",
       "      <td>0.994677</td>\n",
       "      <td>1.000000</td>\n",
       "      <td>0.858782</td>\n",
       "      <td>-0.786105</td>\n",
       "      <td>0.920749</td>\n",
       "      <td>0.919601</td>\n",
       "      <td>0.573021</td>\n",
       "    </tr>\n",
       "    <tr>\n",
       "      <th>xG</th>\n",
       "      <td>-0.817633</td>\n",
       "      <td>-0.795941</td>\n",
       "      <td>-0.065936</td>\n",
       "      <td>0.851354</td>\n",
       "      <td>-0.325834</td>\n",
       "      <td>-0.785229</td>\n",
       "      <td>0.919444</td>\n",
       "      <td>-0.592486</td>\n",
       "      <td>0.863488</td>\n",
       "      <td>0.848167</td>\n",
       "      <td>0.858782</td>\n",
       "      <td>1.000000</td>\n",
       "      <td>-0.606809</td>\n",
       "      <td>0.920748</td>\n",
       "      <td>0.923266</td>\n",
       "      <td>0.493278</td>\n",
       "    </tr>\n",
       "    <tr>\n",
       "      <th>xGA</th>\n",
       "      <td>0.789226</td>\n",
       "      <td>0.779205</td>\n",
       "      <td>-0.039456</td>\n",
       "      <td>-0.753535</td>\n",
       "      <td>0.072106</td>\n",
       "      <td>0.795575</td>\n",
       "      <td>-0.600808</td>\n",
       "      <td>0.861637</td>\n",
       "      <td>-0.808352</td>\n",
       "      <td>-0.790710</td>\n",
       "      <td>-0.786105</td>\n",
       "      <td>-0.606809</td>\n",
       "      <td>1.000000</td>\n",
       "      <td>-0.868826</td>\n",
       "      <td>-0.864504</td>\n",
       "      <td>-0.391825</td>\n",
       "    </tr>\n",
       "    <tr>\n",
       "      <th>xGD</th>\n",
       "      <td>-0.896688</td>\n",
       "      <td>-0.878232</td>\n",
       "      <td>-0.021589</td>\n",
       "      <td>0.900125</td>\n",
       "      <td>-0.238222</td>\n",
       "      <td>-0.879614</td>\n",
       "      <td>0.867793</td>\n",
       "      <td>-0.791906</td>\n",
       "      <td>0.934701</td>\n",
       "      <td>0.916410</td>\n",
       "      <td>0.920749</td>\n",
       "      <td>0.920748</td>\n",
       "      <td>-0.868826</td>\n",
       "      <td>1.000000</td>\n",
       "      <td>0.999438</td>\n",
       "      <td>0.499438</td>\n",
       "    </tr>\n",
       "    <tr>\n",
       "      <th>xGD/90</th>\n",
       "      <td>-0.895620</td>\n",
       "      <td>-0.876824</td>\n",
       "      <td>-0.022025</td>\n",
       "      <td>0.898715</td>\n",
       "      <td>-0.241650</td>\n",
       "      <td>-0.876187</td>\n",
       "      <td>0.871334</td>\n",
       "      <td>-0.787094</td>\n",
       "      <td>0.934376</td>\n",
       "      <td>0.914305</td>\n",
       "      <td>0.919601</td>\n",
       "      <td>0.923266</td>\n",
       "      <td>-0.864504</td>\n",
       "      <td>0.999438</td>\n",
       "      <td>1.000000</td>\n",
       "      <td>0.496074</td>\n",
       "    </tr>\n",
       "    <tr>\n",
       "      <th>Attendance</th>\n",
       "      <td>-0.542683</td>\n",
       "      <td>-0.532435</td>\n",
       "      <td>0.032255</td>\n",
       "      <td>0.583984</td>\n",
       "      <td>-0.243187</td>\n",
       "      <td>-0.510045</td>\n",
       "      <td>0.483135</td>\n",
       "      <td>-0.376617</td>\n",
       "      <td>0.487320</td>\n",
       "      <td>0.579261</td>\n",
       "      <td>0.573021</td>\n",
       "      <td>0.493278</td>\n",
       "      <td>-0.391825</td>\n",
       "      <td>0.499438</td>\n",
       "      <td>0.496074</td>\n",
       "      <td>1.000000</td>\n",
       "    </tr>\n",
       "  </tbody>\n",
       "</table>\n",
       "</div>"
      ],
      "text/plain": [
       "                  Rk      LgRk        MP         W         D         L  \\\n",
       "Rk          1.000000  0.988130  0.048452 -0.966555  0.301579  0.924273   \n",
       "LgRk        0.988130  1.000000  0.077611 -0.952942  0.310066  0.910752   \n",
       "MP          0.048452  0.077611  1.000000  0.016391  0.251907  0.063785   \n",
       "W          -0.966555 -0.952942  0.016391  1.000000 -0.438612 -0.869553   \n",
       "D           0.301579  0.310066  0.251907 -0.438612  1.000000 -0.017991   \n",
       "L           0.924273  0.910752  0.063785 -0.869553 -0.017991  1.000000   \n",
       "GF         -0.855210 -0.843291 -0.083514  0.880804 -0.364518 -0.800298   \n",
       "GA          0.837186  0.826181 -0.049424 -0.795596  0.070288  0.841547   \n",
       "GD         -0.950350 -0.937446 -0.025317  0.944505 -0.257648 -0.919229   \n",
       "Pts        -0.975809 -0.959944  0.061955  0.986890 -0.288033 -0.929928   \n",
       "Pts/G      -0.982258 -0.968642 -0.036399  0.986395 -0.315227 -0.936085   \n",
       "xG         -0.817633 -0.795941 -0.065936  0.851354 -0.325834 -0.785229   \n",
       "xGA         0.789226  0.779205 -0.039456 -0.753535  0.072106  0.795575   \n",
       "xGD        -0.896688 -0.878232 -0.021589  0.900125 -0.238222 -0.879614   \n",
       "xGD/90     -0.895620 -0.876824 -0.022025  0.898715 -0.241650 -0.876187   \n",
       "Attendance -0.542683 -0.532435  0.032255  0.583984 -0.243187 -0.510045   \n",
       "\n",
       "                  GF        GA        GD       Pts     Pts/G        xG  \\\n",
       "Rk         -0.855210  0.837186 -0.950350 -0.975809 -0.982258 -0.817633   \n",
       "LgRk       -0.843291  0.826181 -0.937446 -0.959944 -0.968642 -0.795941   \n",
       "MP         -0.083514 -0.049424 -0.025317  0.061955 -0.036399 -0.065936   \n",
       "W           0.880804 -0.795596  0.944505  0.986890  0.986395  0.851354   \n",
       "D          -0.364518  0.070288 -0.257648 -0.288033 -0.315227 -0.325834   \n",
       "L          -0.800298  0.841547 -0.919229 -0.929928 -0.936085 -0.785229   \n",
       "GF          1.000000 -0.585596  0.908890  0.873521  0.886530  0.919444   \n",
       "GA         -0.585596  1.000000 -0.870293 -0.835098 -0.828477 -0.592486   \n",
       "GD          0.908890 -0.870293  1.000000  0.960402  0.964901  0.863488   \n",
       "Pts         0.873521 -0.835098  0.960402  1.000000  0.994677  0.848167   \n",
       "Pts/G       0.886530 -0.828477  0.964901  0.994677  1.000000  0.858782   \n",
       "xG          0.919444 -0.592486  0.863488  0.848167  0.858782  1.000000   \n",
       "xGA        -0.600808  0.861637 -0.808352 -0.790710 -0.786105 -0.606809   \n",
       "xGD         0.867793 -0.791906  0.934701  0.916410  0.920749  0.920748   \n",
       "xGD/90      0.871334 -0.787094  0.934376  0.914305  0.919601  0.923266   \n",
       "Attendance  0.483135 -0.376617  0.487320  0.579261  0.573021  0.493278   \n",
       "\n",
       "                 xGA       xGD    xGD/90  Attendance  \n",
       "Rk          0.789226 -0.896688 -0.895620   -0.542683  \n",
       "LgRk        0.779205 -0.878232 -0.876824   -0.532435  \n",
       "MP         -0.039456 -0.021589 -0.022025    0.032255  \n",
       "W          -0.753535  0.900125  0.898715    0.583984  \n",
       "D           0.072106 -0.238222 -0.241650   -0.243187  \n",
       "L           0.795575 -0.879614 -0.876187   -0.510045  \n",
       "GF         -0.600808  0.867793  0.871334    0.483135  \n",
       "GA          0.861637 -0.791906 -0.787094   -0.376617  \n",
       "GD         -0.808352  0.934701  0.934376    0.487320  \n",
       "Pts        -0.790710  0.916410  0.914305    0.579261  \n",
       "Pts/G      -0.786105  0.920749  0.919601    0.573021  \n",
       "xG         -0.606809  0.920748  0.923266    0.493278  \n",
       "xGA         1.000000 -0.868826 -0.864504   -0.391825  \n",
       "xGD        -0.868826  1.000000  0.999438    0.499438  \n",
       "xGD/90     -0.864504  0.999438  1.000000    0.496074  \n",
       "Attendance -0.391825  0.499438  0.496074    1.000000  "
      ]
     },
     "execution_count": 19,
     "metadata": {},
     "output_type": "execute_result"
    }
   ],
   "source": [
    "df.corr()"
   ]
  },
  {
   "cell_type": "code",
   "execution_count": 20,
   "metadata": {},
   "outputs": [
    {
     "data": {
      "text/plain": [
       "<matplotlib.image.AxesImage at 0x1f2cf007348>"
      ]
     },
     "execution_count": 20,
     "metadata": {},
     "output_type": "execute_result"
    },
    {
     "data": {
      "image/png": "[encoded data removed]",
      "text/plain": [
       "<Figure size 288x288 with 1 Axes>"
      ]
     },
     "metadata": {
      "needs_background": "light"
     },
     "output_type": "display_data"
    }
   ],
   "source": [
    "plt.matshow(df.corr())"
   ]
  },
  {
   "cell_type": "code",
   "execution_count": 21,
   "metadata": {},
   "outputs": [
    {
     "data": {
      "text/plain": [
       "(0.04845174094109518, 0.6356624921346142)"
      ]
     },
     "execution_count": 21,
     "metadata": {},
     "output_type": "execute_result"
    }
   ],
   "source": [
    "scipy.stats.pearsonr(df['Rk'], df['MP'])"
   ]
  },
  {
   "cell_type": "code",
   "execution_count": 26,
   "metadata": {},
   "outputs": [
    {
     "data": {
      "text/plain": [
       "(0.06195492655552627, 0.5444909703113403)"
      ]
     },
     "execution_count": 26,
     "metadata": {},
     "output_type": "execute_result"
    }
   ],
   "source": [
    "scipy.stats.pearsonr(df['Pts'], df['MP'])"
   ]
  },
  {
   "cell_type": "code",
   "execution_count": 27,
   "metadata": {},
   "outputs": [
    {
     "data": {
      "image/png": "[encoded data removed]",
      "text/plain": [
       "<Figure size 432x288 with 1 Axes>"
      ]
     },
     "metadata": {
      "needs_background": "light"
     },
     "output_type": "display_data"
    }
   ],
   "source": [
    "plt.hist(df['MP'])\n",
    "plt.show()\n",
    "correlació entre les dues variables"
   ]
  },
  {
   "cell_type": "code",
   "execution_count": 44,
   "metadata": {},
   "outputs": [],
   "source": [
    "corr, p_valor = kendalltau(df['Pts'], df['MP']) "
   ]
  },
  {
   "cell_type": "code",
   "execution_count": 45,
   "metadata": {},
   "outputs": [
    {
     "name": "stdout",
     "output_type": "stream",
     "text": [
      "The pearson correlation coefficient is: 0.011726390387008831\n",
      "The p-value is: 0.8847668279526313\n"
     ]
    }
   ],
   "source": [
    "print(\"The pearson correlation coefficient is:\", corr)\n",
    "print(\"The p-value is:\", p_valor)"
   ]
  },
  {
   "cell_type": "code",
   "execution_count": 35,
   "metadata": {},
   "outputs": [],
   "source": [
    "rho, p_value = spearmanr (df['Pts'], df['MP'])"
   ]
  },
  {
   "cell_type": "code",
   "execution_count": 36,
   "metadata": {},
   "outputs": [
    {
     "name": "stdout",
     "output_type": "stream",
     "text": [
      "The pearson correlation coefficient is: 0.014235507663591758\n",
      "The p-value is: 0.8893527737080401\n"
     ]
    }
   ],
   "source": [
    "print(\"The pearson correlation coefficient is:\", rho)\n",
    "print(\"The p-value is:\", p_value)"
   ]
  },
  {
   "cell_type": "code",
   "execution_count": null,
   "metadata": {},
   "outputs": [],
   "source": []
  }
 ],
 "metadata": {
  "kernelspec": {
   "display_name": "Python 3",
   "language": "python",
   "name": "python3"
  },
  "language_info": {
   "codemirror_mode": {
    "name": "ipython",
    "version": 3
   },
   "file_extension": ".py",
   "mimetype": "text/x-python",
   "name": "python",
   "nbconvert_exporter": "python",
   "pygments_lexer": "ipython3",
   "version": "3.7.6"
  }
 },
 "nbformat": 4,
 "nbformat_minor": 4
}
