{
 "cells": [
  {
   "cell_type": "markdown",
   "metadata": {},
   "source": [
    "## - Exercici 1:\n",
    "\n",
    "Descarrega el dataset adjunt de dades oficials de la UEFA i selecciona un atribut del conjunt de dades. Calcula el p-valor i digues si rebutja la hipòtesi nul·la agafant un alfa de 5%. "
   ]
  },
  {
   "cell_type": "code",
   "execution_count": null,
   "metadata": {},
   "outputs": [],
   "source": [
    "# Hipótesi nula que les dades procedeixen d'una distribució normal\n",
    "# Hipótess alternativa les dades NO procedeixen d'una distribució normal"
   ]
  },
  {
   "cell_type": "code",
   "execution_count": 46,
   "metadata": {},
   "outputs": [],
   "source": [
    "import matplotlib.pyplot as plt\n",
    "import seaborn as sns\n",
    "import pandas as pd\n",
    "import numpy as np\n",
    "import scipy\n",
    "import scipy.stats as stats\n",
    "from scipy.stats import kendalltau\n",
    "from scipy.stats import spearmanr\n",
    "from scipy.stats import f_oneway"
   ]
  },
  {
   "cell_type": "code",
   "execution_count": 3,
   "metadata": {
    "scrolled": true
   },
   "outputs": [],
   "source": [
    "df = pd.read_csv('Lligues europees UEFA.csv', sep = ';', encoding='latin_1')"
   ]
  },
  {
   "cell_type": "code",
   "execution_count": 10,
   "metadata": {},
   "outputs": [
    {
     "data": {
      "text/html": [
       "<div>\n",
       "<style scoped>\n",
       "    .dataframe tbody tr th:only-of-type {\n",
       "        vertical-align: middle;\n",
       "    }\n",
       "\n",
       "    .dataframe tbody tr th {\n",
       "        vertical-align: top;\n",
       "    }\n",
       "\n",
       "    .dataframe thead th {\n",
       "        text-align: right;\n",
       "    }\n",
       "</style>\n",
       "<table border=\"1\" class=\"dataframe\">\n",
       "  <thead>\n",
       "    <tr style=\"text-align: right;\">\n",
       "      <th></th>\n",
       "      <th>Rk</th>\n",
       "      <th>Squad</th>\n",
       "      <th>Country</th>\n",
       "      <th>LgRk</th>\n",
       "      <th>MP</th>\n",
       "      <th>W</th>\n",
       "      <th>D</th>\n",
       "      <th>L</th>\n",
       "      <th>GF</th>\n",
       "      <th>GA</th>\n",
       "      <th>...</th>\n",
       "      <th>Pts</th>\n",
       "      <th>Pts/G</th>\n",
       "      <th>xG</th>\n",
       "      <th>xGA</th>\n",
       "      <th>xGD</th>\n",
       "      <th>xGD/90</th>\n",
       "      <th>Last 5</th>\n",
       "      <th>Attendance</th>\n",
       "      <th>Top Team Scorer</th>\n",
       "      <th>Goalkeeper</th>\n",
       "    </tr>\n",
       "  </thead>\n",
       "  <tbody>\n",
       "    <tr>\n",
       "      <th>0</th>\n",
       "      <td>1</td>\n",
       "      <td>Manchester City</td>\n",
       "      <td>ENG</td>\n",
       "      <td>1</td>\n",
       "      <td>37</td>\n",
       "      <td>28</td>\n",
       "      <td>6</td>\n",
       "      <td>3</td>\n",
       "      <td>96</td>\n",
       "      <td>24</td>\n",
       "      <td>...</td>\n",
       "      <td>90</td>\n",
       "      <td>2.43</td>\n",
       "      <td>86.1</td>\n",
       "      <td>26.8</td>\n",
       "      <td>59.3</td>\n",
       "      <td>1.60</td>\n",
       "      <td>W W W W D</td>\n",
       "      <td>52739</td>\n",
       "      <td>Kevin De Bruyne - 15</td>\n",
       "      <td>Ederson</td>\n",
       "    </tr>\n",
       "    <tr>\n",
       "      <th>1</th>\n",
       "      <td>2</td>\n",
       "      <td>Liverpool</td>\n",
       "      <td>ENG</td>\n",
       "      <td>2</td>\n",
       "      <td>36</td>\n",
       "      <td>26</td>\n",
       "      <td>8</td>\n",
       "      <td>2</td>\n",
       "      <td>89</td>\n",
       "      <td>24</td>\n",
       "      <td>...</td>\n",
       "      <td>86</td>\n",
       "      <td>2.39</td>\n",
       "      <td>84.6</td>\n",
       "      <td>33.1</td>\n",
       "      <td>51.4</td>\n",
       "      <td>1.43</td>\n",
       "      <td>W W W D W</td>\n",
       "      <td>53367</td>\n",
       "      <td>Mohamed Salah - 22</td>\n",
       "      <td>Alisson</td>\n",
       "    </tr>\n",
       "    <tr>\n",
       "      <th>2</th>\n",
       "      <td>3</td>\n",
       "      <td>Real Madrid</td>\n",
       "      <td>ESP</td>\n",
       "      <td>1</td>\n",
       "      <td>37</td>\n",
       "      <td>26</td>\n",
       "      <td>7</td>\n",
       "      <td>4</td>\n",
       "      <td>80</td>\n",
       "      <td>31</td>\n",
       "      <td>...</td>\n",
       "      <td>85</td>\n",
       "      <td>2.30</td>\n",
       "      <td>73.0</td>\n",
       "      <td>45.8</td>\n",
       "      <td>27.2</td>\n",
       "      <td>0.73</td>\n",
       "      <td>W W L W D</td>\n",
       "      <td>40624</td>\n",
       "      <td>Karim Benzema - 27</td>\n",
       "      <td>Thibaut Courtois</td>\n",
       "    </tr>\n",
       "    <tr>\n",
       "      <th>3</th>\n",
       "      <td>4</td>\n",
       "      <td>Bayern Munich</td>\n",
       "      <td>GER</td>\n",
       "      <td>1</td>\n",
       "      <td>34</td>\n",
       "      <td>24</td>\n",
       "      <td>5</td>\n",
       "      <td>5</td>\n",
       "      <td>97</td>\n",
       "      <td>37</td>\n",
       "      <td>...</td>\n",
       "      <td>77</td>\n",
       "      <td>2.26</td>\n",
       "      <td>88.1</td>\n",
       "      <td>37.1</td>\n",
       "      <td>51.0</td>\n",
       "      <td>1.50</td>\n",
       "      <td>W W L D D</td>\n",
       "      <td>33176</td>\n",
       "      <td>Robert Lewandowski - 35</td>\n",
       "      <td>Manuel Neuer</td>\n",
       "    </tr>\n",
       "    <tr>\n",
       "      <th>4</th>\n",
       "      <td>5</td>\n",
       "      <td>Paris S-G</td>\n",
       "      <td>FRA</td>\n",
       "      <td>1</td>\n",
       "      <td>37</td>\n",
       "      <td>25</td>\n",
       "      <td>8</td>\n",
       "      <td>4</td>\n",
       "      <td>85</td>\n",
       "      <td>36</td>\n",
       "      <td>...</td>\n",
       "      <td>83</td>\n",
       "      <td>2.24</td>\n",
       "      <td>71.6</td>\n",
       "      <td>38.1</td>\n",
       "      <td>33.4</td>\n",
       "      <td>0.90</td>\n",
       "      <td>W D D D W</td>\n",
       "      <td>41188</td>\n",
       "      <td>Kylian Mbappé - 25</td>\n",
       "      <td>Keylor Navas</td>\n",
       "    </tr>\n",
       "    <tr>\n",
       "      <th>...</th>\n",
       "      <td>...</td>\n",
       "      <td>...</td>\n",
       "      <td>...</td>\n",
       "      <td>...</td>\n",
       "      <td>...</td>\n",
       "      <td>...</td>\n",
       "      <td>...</td>\n",
       "      <td>...</td>\n",
       "      <td>...</td>\n",
       "      <td>...</td>\n",
       "      <td>...</td>\n",
       "      <td>...</td>\n",
       "      <td>...</td>\n",
       "      <td>...</td>\n",
       "      <td>...</td>\n",
       "      <td>...</td>\n",
       "      <td>...</td>\n",
       "      <td>...</td>\n",
       "      <td>...</td>\n",
       "      <td>...</td>\n",
       "      <td>...</td>\n",
       "    </tr>\n",
       "    <tr>\n",
       "      <th>93</th>\n",
       "      <td>94</td>\n",
       "      <td>Bordeaux</td>\n",
       "      <td>FRA</td>\n",
       "      <td>20</td>\n",
       "      <td>37</td>\n",
       "      <td>5</td>\n",
       "      <td>13</td>\n",
       "      <td>19</td>\n",
       "      <td>48</td>\n",
       "      <td>89</td>\n",
       "      <td>...</td>\n",
       "      <td>28</td>\n",
       "      <td>0.76</td>\n",
       "      <td>41.3</td>\n",
       "      <td>68.5</td>\n",
       "      <td>-27.2</td>\n",
       "      <td>-0.73</td>\n",
       "      <td>D L L L D</td>\n",
       "      <td>22083</td>\n",
       "      <td>Hwang Ui-jo - 11</td>\n",
       "      <td>Benoît Costil</td>\n",
       "    </tr>\n",
       "    <tr>\n",
       "      <th>94</th>\n",
       "      <td>95</td>\n",
       "      <td>Venezia</td>\n",
       "      <td>ITA</td>\n",
       "      <td>20</td>\n",
       "      <td>37</td>\n",
       "      <td>6</td>\n",
       "      <td>8</td>\n",
       "      <td>23</td>\n",
       "      <td>34</td>\n",
       "      <td>69</td>\n",
       "      <td>...</td>\n",
       "      <td>26</td>\n",
       "      <td>0.70</td>\n",
       "      <td>35.4</td>\n",
       "      <td>70.5</td>\n",
       "      <td>-35.1</td>\n",
       "      <td>-0.95</td>\n",
       "      <td>L L L W D</td>\n",
       "      <td>6705</td>\n",
       "      <td>Thomas Henry - 9</td>\n",
       "      <td>Sergio Romero</td>\n",
       "    </tr>\n",
       "    <tr>\n",
       "      <th>95</th>\n",
       "      <td>96</td>\n",
       "      <td>Watford</td>\n",
       "      <td>ENG</td>\n",
       "      <td>19</td>\n",
       "      <td>37</td>\n",
       "      <td>6</td>\n",
       "      <td>5</td>\n",
       "      <td>26</td>\n",
       "      <td>33</td>\n",
       "      <td>75</td>\n",
       "      <td>...</td>\n",
       "      <td>23</td>\n",
       "      <td>0.62</td>\n",
       "      <td>37.8</td>\n",
       "      <td>64.1</td>\n",
       "      <td>-26.3</td>\n",
       "      <td>-0.71</td>\n",
       "      <td>L L L D L</td>\n",
       "      <td>20614</td>\n",
       "      <td>Emmanuel Dennis - 10</td>\n",
       "      <td>Ben Foster</td>\n",
       "    </tr>\n",
       "    <tr>\n",
       "      <th>96</th>\n",
       "      <td>97</td>\n",
       "      <td>Norwich City</td>\n",
       "      <td>ENG</td>\n",
       "      <td>20</td>\n",
       "      <td>37</td>\n",
       "      <td>5</td>\n",
       "      <td>7</td>\n",
       "      <td>25</td>\n",
       "      <td>23</td>\n",
       "      <td>79</td>\n",
       "      <td>...</td>\n",
       "      <td>22</td>\n",
       "      <td>0.59</td>\n",
       "      <td>33.0</td>\n",
       "      <td>73.3</td>\n",
       "      <td>-40.4</td>\n",
       "      <td>-1.09</td>\n",
       "      <td>L L L L D</td>\n",
       "      <td>26826</td>\n",
       "      <td>Teemu Pukki - 11</td>\n",
       "      <td>Tim Krul</td>\n",
       "    </tr>\n",
       "    <tr>\n",
       "      <th>97</th>\n",
       "      <td>98</td>\n",
       "      <td>Greuther Fürth</td>\n",
       "      <td>GER</td>\n",
       "      <td>18</td>\n",
       "      <td>34</td>\n",
       "      <td>3</td>\n",
       "      <td>9</td>\n",
       "      <td>22</td>\n",
       "      <td>28</td>\n",
       "      <td>82</td>\n",
       "      <td>...</td>\n",
       "      <td>18</td>\n",
       "      <td>0.53</td>\n",
       "      <td>30.7</td>\n",
       "      <td>60.3</td>\n",
       "      <td>-29.6</td>\n",
       "      <td>-0.87</td>\n",
       "      <td>D L D L L</td>\n",
       "      <td>7672</td>\n",
       "      <td>Branimir Hrgota - 9</td>\n",
       "      <td>Sascha Burchert</td>\n",
       "    </tr>\n",
       "  </tbody>\n",
       "</table>\n",
       "<p>98 rows × 21 columns</p>\n",
       "</div>"
      ],
      "text/plain": [
       "    Rk            Squad Country  LgRk  MP   W   D   L  GF  GA  ...  Pts  \\\n",
       "0    1  Manchester City     ENG     1  37  28   6   3  96  24  ...   90   \n",
       "1    2        Liverpool     ENG     2  36  26   8   2  89  24  ...   86   \n",
       "2    3      Real Madrid     ESP     1  37  26   7   4  80  31  ...   85   \n",
       "3    4    Bayern Munich     GER     1  34  24   5   5  97  37  ...   77   \n",
       "4    5        Paris S-G     FRA     1  37  25   8   4  85  36  ...   83   \n",
       "..  ..              ...     ...   ...  ..  ..  ..  ..  ..  ..  ...  ...   \n",
       "93  94         Bordeaux     FRA    20  37   5  13  19  48  89  ...   28   \n",
       "94  95          Venezia     ITA    20  37   6   8  23  34  69  ...   26   \n",
       "95  96          Watford     ENG    19  37   6   5  26  33  75  ...   23   \n",
       "96  97     Norwich City     ENG    20  37   5   7  25  23  79  ...   22   \n",
       "97  98   Greuther Fürth     GER    18  34   3   9  22  28  82  ...   18   \n",
       "\n",
       "    Pts/G    xG   xGA   xGD  xGD/90     Last 5 Attendance  \\\n",
       "0    2.43  86.1  26.8  59.3    1.60  W W W W D      52739   \n",
       "1    2.39  84.6  33.1  51.4    1.43  W W W D W      53367   \n",
       "2    2.30  73.0  45.8  27.2    0.73  W W L W D      40624   \n",
       "3    2.26  88.1  37.1  51.0    1.50  W W L D D      33176   \n",
       "4    2.24  71.6  38.1  33.4    0.90  W D D D W      41188   \n",
       "..    ...   ...   ...   ...     ...        ...        ...   \n",
       "93   0.76  41.3  68.5 -27.2   -0.73  D L L L D      22083   \n",
       "94   0.70  35.4  70.5 -35.1   -0.95  L L L W D       6705   \n",
       "95   0.62  37.8  64.1 -26.3   -0.71  L L L D L      20614   \n",
       "96   0.59  33.0  73.3 -40.4   -1.09  L L L L D      26826   \n",
       "97   0.53  30.7  60.3 -29.6   -0.87  D L D L L       7672   \n",
       "\n",
       "            Top Team Scorer        Goalkeeper  \n",
       "0      Kevin De Bruyne - 15           Ederson  \n",
       "1        Mohamed Salah - 22           Alisson  \n",
       "2        Karim Benzema - 27  Thibaut Courtois  \n",
       "3   Robert Lewandowski - 35      Manuel Neuer  \n",
       "4        Kylian Mbappé - 25      Keylor Navas  \n",
       "..                      ...               ...  \n",
       "93         Hwang Ui-jo - 11     Benoît Costil  \n",
       "94         Thomas Henry - 9     Sergio Romero  \n",
       "95     Emmanuel Dennis - 10        Ben Foster  \n",
       "96         Teemu Pukki - 11          Tim Krul  \n",
       "97      Branimir Hrgota - 9   Sascha Burchert  \n",
       "\n",
       "[98 rows x 21 columns]"
      ]
     },
     "execution_count": 10,
     "metadata": {},
     "output_type": "execute_result"
    }
   ],
   "source": [
    "df.sort_values(by=['Rk'])"
   ]
  },
  {
   "cell_type": "code",
   "execution_count": 5,
   "metadata": {},
   "outputs": [
    {
     "data": {
      "text/plain": [
       "count    98.000000\n",
       "mean     49.734694\n",
       "std      16.166371\n",
       "min      18.000000\n",
       "25%      37.000000\n",
       "50%      46.000000\n",
       "75%      61.750000\n",
       "max      90.000000\n",
       "Name: Pts, dtype: float64"
      ]
     },
     "execution_count": 5,
     "metadata": {},
     "output_type": "execute_result"
    }
   ],
   "source": [
    "#escollim l'atribut punts del dataframe i visualitzem les dades estadístiques del mateix\n",
    "df['Pts'].describe()"
   ]
  },
  {
   "cell_type": "code",
   "execution_count": 16,
   "metadata": {},
   "outputs": [
    {
     "data": {
      "text/plain": [
       "(0.9720422029495239, 0.0346611924469471)"
      ]
     },
     "execution_count": 16,
     "metadata": {},
     "output_type": "execute_result"
    }
   ],
   "source": [
    "# per determinar si la mostra agafada té una distribució normal o no fem la prova de Shapiro-Wilk\n",
    "scipy.stats.shapiro(df['Pts'])"
   ]
  },
  {
   "cell_type": "code",
   "execution_count": 47,
   "metadata": {},
   "outputs": [],
   "source": [
    "# el resultat ens dona un valor p de 0.03. donat que l'alfa es de 0.05, rebutjem l'hipotesi nula de que la mostra té una distribució normal."
   ]
  },
  {
   "cell_type": "code",
   "execution_count": 19,
   "metadata": {},
   "outputs": [
    {
     "data": {
      "image/png": "[encoded data removed]",
      "text/plain": [
       "<Figure size 432x288 with 1 Axes>"
      ]
     },
     "metadata": {
      "needs_background": "light"
     },
     "output_type": "display_data"
    }
   ],
   "source": [
    "sns.kdeplot(df['Pts'], label= 'Points')\n",
    "plt.axvline(x= df['Pts'].mean(), linewidth = 1, color= 'black', ls= 'dotted')\n",
    "plt.title('European leagues points', size = 15)\n",
    "plt.show()"
   ]
  },
  {
   "cell_type": "code",
   "execution_count": null,
   "metadata": {},
   "outputs": [],
   "source": [
    "# Al gràfic anterior també podem visualitzar la confirmació que la mostra no té una distribució normal."
   ]
  },
  {
   "cell_type": "markdown",
   "metadata": {},
   "source": [
    "## - Exercici 2:\n",
    "\n",
    "Amb el mateix dataset selecciona dos altres atributs del conjunt de dades. Calcula els p-valors i digues si rebutgen la hipòtesi nul·la agafant un alfa de 5%."
   ]
  },
  {
   "cell_type": "code",
   "execution_count": null,
   "metadata": {},
   "outputs": [],
   "source": [
    "# Hipótesi nula que hi ha una correlació entre les dues variables ranking i punts\n",
    "# Hipótesi alternativa que NO hi ha cap correlació entre aquestes dues variables"
   ]
  },
  {
   "cell_type": "code",
   "execution_count": 20,
   "metadata": {},
   "outputs": [
    {
     "data": {
      "text/plain": [
       "(0.9547353386878967, 0.001963241258636117)"
      ]
     },
     "execution_count": 20,
     "metadata": {},
     "output_type": "execute_result"
    }
   ],
   "source": [
    "scipy.stats.shapiro(df['Rk'])"
   ]
  },
  {
   "cell_type": "code",
   "execution_count": null,
   "metadata": {},
   "outputs": [],
   "source": [
    "''' Com hem vist a l'exercici anterior la variable punts no té una distribució normal. \n",
    "i com comprovem a la linia anterior la variable ranking tampoc té una distribució normal (valor p  de 0.0019 per sota del 0.05) \n",
    "Així doncs no podem fer servir la correlació de Pearson, que funciona millor amb variables amb distribucions normals, i\n",
    "farem servir llavors el coeficient de correlació de Spearman.'''"
   ]
  },
  {
   "cell_type": "code",
   "execution_count": 21,
   "metadata": {},
   "outputs": [],
   "source": [
    "rho, p_value = spearmanr (df['Pts'], df['Rk'])"
   ]
  },
  {
   "cell_type": "code",
   "execution_count": 22,
   "metadata": {},
   "outputs": [
    {
     "name": "stdout",
     "output_type": "stream",
     "text": [
      "The Spearman correlation coefficient is: -0.9943014501449078\n",
      "The p-value is: 3.790984733620942e-95\n"
     ]
    }
   ],
   "source": [
    "print(\"The Spearman correlation coefficient is:\", rho)\n",
    "print(\"The p-value is:\", p_value)"
   ]
  },
  {
   "cell_type": "code",
   "execution_count": null,
   "metadata": {},
   "outputs": [],
   "source": [
    "''' Veiem que hi ha una correlació negativa entre ambdues variables de -0.99, gairebé perfecte. \n",
    "I donat que el valor p (3.398589707355742) es major que 0.05, es confirma que la hipótesis nula es verdadera\n",
    "i hi ha una forta correlació entre la variable punts i la variable ranking.'''"
   ]
  },
  {
   "cell_type": "code",
   "execution_count": 50,
   "metadata": {},
   "outputs": [
    {
     "data": {
      "image/png": "[encoded data removed]",
      "text/plain": [
       "<Figure size 432x288 with 1 Axes>"
      ]
     },
     "metadata": {
      "needs_background": "light"
     },
     "output_type": "display_data"
    }
   ],
   "source": [
    "plt.scatter(df['Rk'],df['Pts'])\n",
    "plt.show()"
   ]
  },
  {
   "cell_type": "code",
   "execution_count": null,
   "metadata": {},
   "outputs": [],
   "source": [
    "# La gràfica anterior ve a confirmar visualment que hi ha correlació practicament perfecte entre les variables escollides."
   ]
  },
  {
   "cell_type": "markdown",
   "metadata": {},
   "source": [
    "## - Exercici 3:\n",
    "\n",
    "Continua amb el conjunt de dades adjunt i selecciona tres atributs del conjunt de dades. Calcula el p-valor i digues si rebutja la hipòtesi nul·la agafant un alfa de 5%."
   ]
  },
  {
   "cell_type": "code",
   "execution_count": null,
   "metadata": {},
   "outputs": [],
   "source": [
    "''' Hipótesi nula que el nombre d'assistencies (Attendance) dels 50 primers equips del ranking \n",
    "d'Espanya, Anglaterra i Alemania es similar.\n",
    "Hipótesi alternativa que el nombre d'assistencies es diferent'''"
   ]
  },
  {
   "cell_type": "code",
   "execution_count": 19,
   "metadata": {},
   "outputs": [],
   "source": [
    "# creem un dataframe per a cada pais d'entre els 50 primers posicionats al ranking\n",
    "df_rk = df[df['Rk'] < 50]\n",
    "\n",
    "data_esp = df_rk[df_rk['Country'] == 'ESP']\n",
    "data_eng = df_rk[df_rk['Country'] == 'ENG']\n",
    "data_ger = df_rk[df_rk['Country'] == 'GER']"
   ]
  },
  {
   "cell_type": "code",
   "execution_count": 21,
   "metadata": {},
   "outputs": [
    {
     "data": {
      "text/plain": [
       "(0.9812402725219727, 0.9687798023223877)"
      ]
     },
     "execution_count": 21,
     "metadata": {},
     "output_type": "execute_result"
    }
   ],
   "source": [
    "# comprovem si la variable Attendance de cada pais té una distribució normal\n",
    "scipy.stats.shapiro(data_esp['Attendance'])"
   ]
  },
  {
   "cell_type": "code",
   "execution_count": 22,
   "metadata": {},
   "outputs": [
    {
     "data": {
      "text/plain": [
       "(0.8950594067573547, 0.19320356845855713)"
      ]
     },
     "execution_count": 22,
     "metadata": {},
     "output_type": "execute_result"
    }
   ],
   "source": [
    "scipy.stats.shapiro(data_eng['Attendance'])"
   ]
  },
  {
   "cell_type": "code",
   "execution_count": 23,
   "metadata": {},
   "outputs": [
    {
     "data": {
      "text/plain": [
       "(0.9410119652748108, 0.5643281936645508)"
      ]
     },
     "execution_count": 23,
     "metadata": {},
     "output_type": "execute_result"
    }
   ],
   "source": [
    "scipy.stats.shapiro(data_ger['Attendance'])"
   ]
  },
  {
   "cell_type": "code",
   "execution_count": null,
   "metadata": {},
   "outputs": [],
   "source": [
    "'''Veiem que la distribució en els 3 casos supera el 0.05 i per tant podriem considerar que tenen una distribució\n",
    "mes o menys normal.'''"
   ]
  },
  {
   "cell_type": "code",
   "execution_count": null,
   "metadata": {},
   "outputs": [],
   "source": [
    "# Calculem la desviació de la variable Attendance de cada pais"
   ]
  },
  {
   "cell_type": "code",
   "execution_count": 37,
   "metadata": {},
   "outputs": [
    {
     "data": {
      "text/plain": [
       "9673.525231269105"
      ]
     },
     "execution_count": 37,
     "metadata": {},
     "output_type": "execute_result"
    }
   ],
   "source": [
    "data_ger['Attendance'].std()"
   ]
  },
  {
   "cell_type": "code",
   "execution_count": 38,
   "metadata": {},
   "outputs": [
    {
     "data": {
      "text/plain": [
       "12664.251001483326"
      ]
     },
     "execution_count": 38,
     "metadata": {},
     "output_type": "execute_result"
    }
   ],
   "source": [
    "data_esp['Attendance'].std()"
   ]
  },
  {
   "cell_type": "code",
   "execution_count": 39,
   "metadata": {},
   "outputs": [
    {
     "data": {
      "text/plain": [
       "14685.871549062233"
      ]
     },
     "execution_count": 39,
     "metadata": {},
     "output_type": "execute_result"
    }
   ],
   "source": [
    "data_eng['Attendance'].std()"
   ]
  },
  {
   "cell_type": "code",
   "execution_count": null,
   "metadata": {},
   "outputs": [],
   "source": [
    "# Comprovem la homogeneitat de la variança calculant el ratio entre la mostra mes gran i la més petita"
   ]
  },
  {
   "cell_type": "code",
   "execution_count": 40,
   "metadata": {},
   "outputs": [
    {
     "name": "stdout",
     "output_type": "stream",
     "text": [
      "1.5181509530353021\n"
     ]
    }
   ],
   "source": [
    "ratio = data_eng['Attendance'].std()/data_ger['Attendance'].std()\n",
    "print (ratio)"
   ]
  },
  {
   "cell_type": "code",
   "execution_count": null,
   "metadata": {},
   "outputs": [],
   "source": [
    "'''Com que la relació entre la mostra mes gran i la mes petita es inferior a 2, en aques cas 1.51,\n",
    "considerem que es cumpleix la suposició de desviacions estàndar iguals.'''"
   ]
  },
  {
   "cell_type": "code",
   "execution_count": null,
   "metadata": {},
   "outputs": [],
   "source": [
    "'''com que la distribució de les dades es normal i la variança es homogenea, farem servir el test ANOVA per comparar les \n",
    "mitjanes d`assistencia dels tres païssos'''"
   ]
  },
  {
   "cell_type": "code",
   "execution_count": null,
   "metadata": {},
   "outputs": [],
   "source": [
    "# H0: les mitjanes d'assistencia son totes iguals.\n",
    "# Ha: al menys una de les mitjanes es diferent."
   ]
  },
  {
   "cell_type": "code",
   "execution_count": 47,
   "metadata": {},
   "outputs": [
    {
     "data": {
      "text/plain": [
       "F_onewayResult(statistic=9.981936965380445, pvalue=0.000650809059718107)"
      ]
     },
     "execution_count": 47,
     "metadata": {},
     "output_type": "execute_result"
    }
   ],
   "source": [
    "# realitzem el test ANOVA unidireccional\n",
    "f_oneway (data_eng['Attendance'], data_ger['Attendance'], data_esp['Attendance'])"
   ]
  },
  {
   "cell_type": "code",
   "execution_count": null,
   "metadata": {},
   "outputs": [],
   "source": [
    "# Veiem que el valor p es de 0.00, així doncs com que està per sota de l'alfa de 0.05, rebutjem la hipotesi nula."
   ]
  },
  {
   "cell_type": "code",
   "execution_count": 48,
   "metadata": {
    "scrolled": true
   },
   "outputs": [
    {
     "data": {
      "image/png": "[encoded data removed]",
      "text/plain": [
       "<Figure size 792x576 with 1 Axes>"
      ]
     },
     "metadata": {
      "needs_background": "light"
     },
     "output_type": "display_data"
    }
   ],
   "source": [
    "plt.figure(figsize= (11,8))\n",
    "\n",
    "sns.kdeplot(data_esp['Attendance'],  label= 'Attendance of 50 first Spanish teams')\n",
    "sns.kdeplot(data_eng['Attendance'], label= 'Attendance of 50 first English teams', color= 'magenta')\n",
    "sns.kdeplot(data_ger['Attendance'], label= 'Attendance of 50 first German teams', color='#4cf163')\n",
    "plt.title('Attendance distribution among the 50 first teams of Spain, England and Germany', fontsize = 15)\n",
    "plt.xlabel('Attendance')\n",
    "plt.ylabel('Density')\n",
    "plt.show()"
   ]
  },
  {
   "cell_type": "code",
   "execution_count": null,
   "metadata": {},
   "outputs": [],
   "source": [
    "'''En la gràfica anterior podem veure clarament com l`assistencia es molt diferent entre els equips de tots tres països, \n",
    "confirmant que l`hipotesi alternativa es la correcta'''"
   ]
  }
 ],
 "metadata": {
  "kernelspec": {
   "display_name": "Python 3",
   "language": "python",
   "name": "python3"
  },
  "language_info": {
   "codemirror_mode": {
    "name": "ipython",
    "version": 3
   },
   "file_extension": ".py",
   "mimetype": "text/x-python",
   "name": "python",
   "nbconvert_exporter": "python",
   "pygments_lexer": "ipython3",
   "version": "3.7.6"
  }
 },
 "nbformat": 4,
 "nbformat_minor": 4
}
